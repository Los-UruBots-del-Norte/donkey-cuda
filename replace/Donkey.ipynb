{
 "cells": [
  {
   "cell_type": "markdown",
   "metadata": {
    "id": "uLdjQ-JQFYVG"
   },
   "source": [
    "## Check GPU and Tensorflow version\n",
    "If \"Found GPU at: / device: GPU: 0\" is displayed, the GPU is ready to use.*italicized text*"
   ]
  },
  {
   "cell_type": "code",
   "execution_count": 7,
   "metadata": {
    "tags": []
   },
   "outputs": [
    {
     "name": "stdout",
     "output_type": "stream",
     "text": [
      "Executing op _EagerConst in device /job:localhost/replica:0/task:0/device:CPU:0\n",
      "Executing op _EagerConst in device /job:localhost/replica:0/task:0/device:CPU:0\n",
      "Executing op MatMul in device /job:localhost/replica:0/task:0/device:CPU:0\n",
      "tf.Tensor(\n",
      "[[22. 28.]\n",
      " [49. 64.]], shape=(2, 2), dtype=float32)\n"
     ]
    }
   ],
   "source": [
    "import tensorflow as tf\n",
    "# Test if GPU is used for TF\n",
    "tf.debugging.set_log_device_placement(True)\n",
    "\n",
    "# Create some tensors\n",
    "a = tf.constant([[1.0, 2.0, 3.0], [4.0, 5.0, 6.0]])\n",
    "b = tf.constant([[1.0, 2.0], [3.0, 4.0], [5.0, 6.0]])\n",
    "c = tf.matmul(a, b)\n",
    "\n",
    "print(c)\n"
   ]
  },
  {
   "cell_type": "code",
   "execution_count": 2,
   "metadata": {
    "colab": {
     "base_uri": "https://localhost:8080/"
    },
    "id": "pqwkW1S46O93",
    "outputId": "17325069-868d-49ca-892d-ee979221e879"
   },
   "outputs": [
    {
     "name": "stdout",
     "output_type": "stream",
     "text": [
      "Name: tensorflow\n",
      "Version: 2.16.1\n",
      "Summary: TensorFlow is an open source machine learning framework for everyone.\n",
      "Home-page: https://www.tensorflow.org/\n",
      "Author: Google Inc.\n",
      "Author-email: packages@tensorflow.org\n",
      "License: Apache 2.0\n",
      "Location: /home/adminutec/jupyter-venv/lib/python3.11/site-packages\n",
      "Requires: absl-py, astunparse, flatbuffers, gast, google-pasta, grpcio, h5py, keras, libclang, ml-dtypes, numpy, opt-einsum, packaging, protobuf, requests, setuptools, six, tensorboard, tensorflow-io-gcs-filesystem, termcolor, typing-extensions, wrapt\n",
      "Required-by: \n",
      "Python 3.11.9\n"
     ]
    }
   ],
   "source": [
    "!pip show tensorflow\n",
    "!python3 --version\n",
    "print(\"Num GPUs Available: \", len(tf.config.list_physical_devices('GPU')))"
   ]
  },
  {
   "cell_type": "code",
   "execution_count": null,
   "metadata": {
    "colab": {
     "base_uri": "https://localhost:8080/"
    },
    "id": "lIvUrZ4k0w9N",
    "outputId": "f45035d7-8986-4c23-8b6d-3b0154a1387e"
   },
   "outputs": [
    {
     "name": "stdout",
     "output_type": "stream",
     "text": [
      "/content/mycar\n",
      "mkdir: cannot create directory ‘/content/mycar/data’: File exists\n",
      "File downloaded successfully!\n"
     ]
    }
   ],
   "source": [
    "# Download zips with data, follow that zip structure\n",
    "# /\n",
    "# - images/\n",
    "# - catalog_0.catalog\n",
    "# - catalog_0.catalog_manifest\n",
    "# ...\n",
    "\n",
    "file_names = []\n",
    "file_paths = []\n",
    "\n",
    "import requests\n",
    "\n",
    "# URL of the file you want to download\n",
    "urls = ['']\n",
    "counter = 0\n",
    "# Send a GET request to the URL\n",
    "for url in urls:\n",
    "  response = requests.get(url)\n",
    "  # Ensure the request was successful\n",
    "  if response.status_code == 200:\n",
    "    file_name = f\"data-{counter}.zip\"\n",
    "    counter += 1\n",
    "    file_names.append(file_name)\n",
    "    with open(f'/{file_name}', 'wb') as f:\n",
    "        # Write the content of the response to the file\n",
    "        file_paths.append(f'/{file_name}')\n",
    "        f.write(response.content)\n",
    "        print(\"File downloaded successfully!\")\n",
    "  else:\n",
    "    print(\"Failed to retrieve the file. Status code:\", response.status_code)"
   ]
  },
  {
   "cell_type": "code",
   "execution_count": 11,
   "metadata": {
    "colab": {
     "base_uri": "https://localhost:8080/"
    },
    "id": "RweMGL9JKnlz",
    "outputId": "0357635f-f3d9-4ac2-f430-b267c9528b55"
   },
   "outputs": [
    {
     "name": "stdout",
     "output_type": "stream",
     "text": [
      "unpacking: ./data-0.zip\n",
      "An error occurred: [Errno 2] No such file or directory: './data-0.zip'\n"
     ]
    }
   ],
   "source": [
    "# Unzip downloaded files\n",
    "\n",
    "file_names=[\"data-0.zip\"]\n",
    "\n",
    "import os\n",
    "import zipfile\n",
    "\n",
    "def unpack_zip(file_path, extract_to):\n",
    "    with zipfile.ZipFile(file_path, 'r') as zip_ref:\n",
    "        zip_ref.extractall(extract_to)\n",
    "        print(f\"Extracted all files in {file_path} to {extract_to}\")\n",
    "def unpack_file(file_path, extract_to):\n",
    "    _, file_ext = os.path.splitext(file_path)\n",
    "\n",
    "    if file_ext in ['.zip']:\n",
    "        unpack_zip(file_path, extract_to)\n",
    "    else:\n",
    "        print(f\"Unsupported file format: {file_ext}\")\n",
    "def safe_unpack_file(file_path, extract_to):\n",
    "    try:\n",
    "        print(f\"unpacking: \" + file_path)\n",
    "        unpack_file(file_path, extract_to)\n",
    "    except Exception as e:\n",
    "        print(f\"An error occurred: {e}\")\n",
    "\n",
    "\n",
    "target_directory = \"mycar/data/\"\n",
    "src_directory = \"./\"\n",
    "for filename in file_names:\n",
    "    if os.path.isfile(os.path.join(target_directory, filename)):  # Check if it is a file\n",
    "        # Extract the file name without the extension\n",
    "        file_base = os.path.splitext(filename)[0]\n",
    "        # Create a path for the new subfolder\n",
    "        new_folder_path = os.path.join(target_directory, file_base)\n",
    "for file_name in file_names:\n",
    "  safe_unpack_file(src_directory + file_name, (target_directory + file_name)[:-len('.zip')])"
   ]
  },
  {
   "cell_type": "code",
   "execution_count": 2,
   "metadata": {},
   "outputs": [],
   "source": [
    "os.chdir(\"mycar\")"
   ]
  },
  {
   "cell_type": "code",
   "execution_count": 27,
   "metadata": {
    "colab": {
     "base_uri": "https://localhost:8080/"
    },
    "id": "jerrmrSfaD_f",
    "outputId": "0fc7c6c3-8ec7-4e2e-f5a8-798bb85b9870"
   },
   "outputs": [
    {
     "name": "stderr",
     "output_type": "stream",
     "text": [
      "INFO:donkeycar.config:loading config file: ./config.py\n",
      "INFO:donkeycar.config:loading personal config over-rides from ./myconfig.py\n",
      "2024-05-24 15:03:29.743328: I tensorflow/tsl/cuda/cudart_stub.cc:28] Could not find cuda drivers on your machine, GPU will not be used.\n",
      "2024-05-24 15:03:29.780456: I tensorflow/tsl/cuda/cudart_stub.cc:28] Could not find cuda drivers on your machine, GPU will not be used.\n",
      "2024-05-24 15:03:29.780799: I tensorflow/core/platform/cpu_feature_guard.cc:182] This TensorFlow binary is optimized to use available CPU instructions in performance-critical operations.\n",
      "To enable the following instructions: AVX2 FMA, in other operations, rebuild TensorFlow with the appropriate compiler flags.\n",
      "2024-05-24 15:03:30.345723: W tensorflow/compiler/tf2tensorrt/utils/py_utils.cc:38] TF-TRT Warning: Could not find TensorRT\n",
      "INFO:donkeycar.pipeline.database:Found model database /home/adminutec/jupyter-venv/content/mycar/models/database.json\n",
      "INFO:donkeycar.utils:get_model_by_type: model type is: linear\n",
      "2024-05-24 15:03:31.296499: I tensorflow/compiler/xla/stream_executor/cuda/cuda_gpu_executor.cc:995] successful NUMA node read from SysFS had negative value (-1), but there must be at least one NUMA node, so returning NUMA node zero. See more at https://github.com/torvalds/linux/blob/v6.0/Documentation/ABI/testing/sysfs-bus-pci#L344-L355\n",
      "2024-05-24 15:03:31.298282: W tensorflow/core/common_runtime/gpu/gpu_device.cc:1960] Cannot dlopen some GPU libraries. Please make sure the missing libraries mentioned above are installed properly if you would like to use GPU. Follow the guide at https://www.tensorflow.org/install/gpu for how to download and setup the required libraries for your platform.\n",
      "Skipping registering GPU devices...\n",
      "INFO:donkeycar.parts.keras:Created KerasLinear with interpreter: KerasInterpreter\n",
      "INFO:donkeycar.parts.datastore_v2:Found datastore at /home/adminutec/jupyter-venv/content/mycar/data/data-0\n",
      "INFO:donkeycar.parts.datastore_v2:Using last catalog /home/adminutec/jupyter-venv/content/mycar/data/data-0/catalog_4.catalog\n",
      "INFO:donkeycar.pipeline.types:Loading tubs from paths ['data/data-0']\n"
     ]
    },
    {
     "name": "stdout",
     "output_type": "stream",
     "text": [
      "________             ______                   _________              \n",
      "___  __ \\_______________  /___________  __    __  ____/_____ ________\n",
      "__  / / /  __ \\_  __ \\_  //_/  _ \\_  / / /    _  /    _  __ `/_  ___/\n",
      "_  /_/ // /_/ /  / / /  ,<  /  __/  /_/ /     / /___  / /_/ /_  /    \n",
      "/_____/ \\____//_/ /_//_/|_| \\___/_\\__, /      \\____/  \\__,_/ /_/     \n",
      "                                 /____/                              \n",
      "\n",
      "using donkey v5.2.dev1 ...\n",
      "Model: \"linear\"\n",
      "__________________________________________________________________________________________________\n",
      " Layer (type)                Output Shape                 Param #   Connected to                  \n",
      "==================================================================================================\n",
      " img_in (InputLayer)         [(None, 120, 160, 3)]        0         []                            \n",
      "                                                                                                  \n",
      " conv2d_1 (Conv2D)           (None, 58, 78, 24)           1824      ['img_in[0][0]']              \n",
      "                                                                                                  \n",
      " dropout (Dropout)           (None, 58, 78, 24)           0         ['conv2d_1[0][0]']            \n",
      "                                                                                                  \n",
      " conv2d_2 (Conv2D)           (None, 27, 37, 32)           19232     ['dropout[0][0]']             \n",
      "                                                                                                  \n",
      " dropout_1 (Dropout)         (None, 27, 37, 32)           0         ['conv2d_2[0][0]']            \n",
      "                                                                                                  \n",
      " conv2d_3 (Conv2D)           (None, 12, 17, 64)           51264     ['dropout_1[0][0]']           \n",
      "                                                                                                  \n",
      " dropout_2 (Dropout)         (None, 12, 17, 64)           0         ['conv2d_3[0][0]']            \n",
      "                                                                                                  \n",
      " conv2d_4 (Conv2D)           (None, 10, 15, 64)           36928     ['dropout_2[0][0]']           \n",
      "                                                                                                  \n",
      " dropout_3 (Dropout)         (None, 10, 15, 64)           0         ['conv2d_4[0][0]']            \n",
      "                                                                                                  \n",
      " conv2d_5 (Conv2D)           (None, 8, 13, 64)            36928     ['dropout_3[0][0]']           \n",
      "                                                                                                  \n",
      " dropout_4 (Dropout)         (None, 8, 13, 64)            0         ['conv2d_5[0][0]']            \n",
      "                                                                                                  \n",
      " flattened (Flatten)         (None, 6656)                 0         ['dropout_4[0][0]']           \n",
      "                                                                                                  \n",
      " dense_1 (Dense)             (None, 100)                  665700    ['flattened[0][0]']           \n",
      "                                                                                                  \n",
      " dropout_5 (Dropout)         (None, 100)                  0         ['dense_1[0][0]']             \n",
      "                                                                                                  \n",
      " dense_2 (Dense)             (None, 50)                   5050      ['dropout_5[0][0]']           \n",
      "                                                                                                  \n",
      " dropout_6 (Dropout)         (None, 50)                   0         ['dense_2[0][0]']             \n",
      "                                                                                                  \n",
      " n_outputs0 (Dense)          (None, 1)                    51        ['dropout_6[0][0]']           \n",
      "                                                                                                  \n",
      " n_outputs1 (Dense)          (None, 1)                    51        ['dropout_6[0][0]']           \n",
      "                                                                                                  \n",
      "==================================================================================================\n",
      "Total params: 817028 (3.12 MB)\n",
      "Trainable params: 817028 (3.12 MB)\n",
      "Non-trainable params: 0 (0.00 Byte)\n",
      "__________________________________________________________________________________________________\n",
      "Epoch 1/60\n"
     ]
    },
    {
     "name": "stderr",
     "output_type": "stream",
     "text": [
      "INFO:donkeycar.pipeline.training:Records # Training 3456\n",
      "INFO:donkeycar.pipeline.training:Records # Validation 864\n",
      "INFO:donkeycar.parts.tub_v2:Closing tub data/data-0\n",
      "INFO:donkeycar.parts.datastore_v2:Closing manifest /home/adminutec/jupyter-venv/content/mycar/data/data-0\n",
      "INFO:donkeycar.parts.image_transformations:Creating ImageTransformations []\n",
      "INFO:donkeycar.parts.image_transformations:Creating ImageTransformations []\n",
      "INFO:donkeycar.parts.image_transformations:Creating ImageTransformations []\n",
      "INFO:donkeycar.parts.image_transformations:Creating ImageTransformations []\n",
      "INFO:donkeycar.pipeline.training:Train with image caching: True\n",
      "INFO:donkeycar.parts.keras:////////// Starting training //////////\n"
     ]
    },
    {
     "name": "stdout",
     "output_type": "stream",
     "text": [
      "27/27 [==============================] - ETA: 0s - loss: 0.6429 - n_outputs0_loss: 0.2922 - n_outputs1_loss: 0.3507\n",
      "Epoch 1: val_loss improved from inf to 0.38305, saving model to /home/adminutec/jupyter-venv/content/mycar/models/modelojuanma.h5\n",
      "27/27 [==============================] - 19s 656ms/step - loss: 0.6429 - n_outputs0_loss: 0.2922 - n_outputs1_loss: 0.3507 - val_loss: 0.3830 - val_n_outputs0_loss: 0.2619 - val_n_outputs1_loss: 0.1212\n",
      "Epoch 2/60\n"
     ]
    },
    {
     "name": "stderr",
     "output_type": "stream",
     "text": [
      "/home/adminutec/jupyter-venv/lib/python3.11/site-packages/keras/src/engine/training.py:3000: UserWarning: You are saving your model as an HDF5 file via `model.save()`. This file format is considered legacy. We recommend using instead the native Keras format, e.g. `model.save('my_model.keras')`.\n",
      "  saving_api.save_model(\n"
     ]
    },
    {
     "name": "stdout",
     "output_type": "stream",
     "text": [
      "27/27 [==============================] - ETA: 0s - loss: 0.3202 - n_outputs0_loss: 0.2691 - n_outputs1_loss: 0.0510\n",
      "Epoch 2: val_loss improved from 0.38305 to 0.29093, saving model to /home/adminutec/jupyter-venv/content/mycar/models/modelojuanma.h5\n",
      "27/27 [==============================] - 9s 337ms/step - loss: 0.3202 - n_outputs0_loss: 0.2691 - n_outputs1_loss: 0.0510 - val_loss: 0.2909 - val_n_outputs0_loss: 0.2619 - val_n_outputs1_loss: 0.0290\n",
      "Epoch 3/60\n",
      "27/27 [==============================] - ETA: 0s - loss: 0.3059 - n_outputs0_loss: 0.2684 - n_outputs1_loss: 0.0375\n",
      "Epoch 3: val_loss did not improve from 0.29093\n",
      "27/27 [==============================] - 9s 336ms/step - loss: 0.3059 - n_outputs0_loss: 0.2684 - n_outputs1_loss: 0.0375 - val_loss: 0.3072 - val_n_outputs0_loss: 0.2628 - val_n_outputs1_loss: 0.0444\n",
      "Epoch 4/60\n",
      "27/27 [==============================] - ETA: 0s - loss: 0.3030 - n_outputs0_loss: 0.2688 - n_outputs1_loss: 0.0341\n",
      "Epoch 4: val_loss improved from 0.29093 to 0.28773, saving model to /home/adminutec/jupyter-venv/content/mycar/models/modelojuanma.h5\n",
      "27/27 [==============================] - 9s 338ms/step - loss: 0.3030 - n_outputs0_loss: 0.2688 - n_outputs1_loss: 0.0341 - val_loss: 0.2877 - val_n_outputs0_loss: 0.2613 - val_n_outputs1_loss: 0.0264\n",
      "Epoch 5/60\n",
      "27/27 [==============================] - ETA: 0s - loss: 0.2926 - n_outputs0_loss: 0.2619 - n_outputs1_loss: 0.0307\n",
      "Epoch 5: val_loss improved from 0.28773 to 0.28673, saving model to /home/adminutec/jupyter-venv/content/mycar/models/modelojuanma.h5\n",
      "27/27 [==============================] - 9s 337ms/step - loss: 0.2926 - n_outputs0_loss: 0.2619 - n_outputs1_loss: 0.0307 - val_loss: 0.2867 - val_n_outputs0_loss: 0.2610 - val_n_outputs1_loss: 0.0258\n",
      "Epoch 6/60\n",
      "27/27 [==============================] - ETA: 0s - loss: 0.2901 - n_outputs0_loss: 0.2620 - n_outputs1_loss: 0.0281\n",
      "Epoch 6: val_loss improved from 0.28673 to 0.27330, saving model to /home/adminutec/jupyter-venv/content/mycar/models/modelojuanma.h5\n",
      "27/27 [==============================] - 9s 338ms/step - loss: 0.2901 - n_outputs0_loss: 0.2620 - n_outputs1_loss: 0.0281 - val_loss: 0.2733 - val_n_outputs0_loss: 0.2584 - val_n_outputs1_loss: 0.0149\n",
      "Epoch 7/60\n",
      "27/27 [==============================] - ETA: 0s - loss: 0.2845 - n_outputs0_loss: 0.2572 - n_outputs1_loss: 0.0273\n",
      "Epoch 7: val_loss improved from 0.27330 to 0.26314, saving model to /home/adminutec/jupyter-venv/content/mycar/models/modelojuanma.h5\n",
      "27/27 [==============================] - 9s 340ms/step - loss: 0.2845 - n_outputs0_loss: 0.2572 - n_outputs1_loss: 0.0273 - val_loss: 0.2631 - val_n_outputs0_loss: 0.2370 - val_n_outputs1_loss: 0.0262\n",
      "Epoch 8/60\n",
      "27/27 [==============================] - ETA: 0s - loss: 0.2542 - n_outputs0_loss: 0.2253 - n_outputs1_loss: 0.0289\n",
      "Epoch 8: val_loss improved from 0.26314 to 0.18440, saving model to /home/adminutec/jupyter-venv/content/mycar/models/modelojuanma.h5\n",
      "27/27 [==============================] - 9s 340ms/step - loss: 0.2542 - n_outputs0_loss: 0.2253 - n_outputs1_loss: 0.0289 - val_loss: 0.1844 - val_n_outputs0_loss: 0.1744 - val_n_outputs1_loss: 0.0100\n",
      "Epoch 9/60\n",
      "27/27 [==============================] - ETA: 0s - loss: 0.2239 - n_outputs0_loss: 0.1952 - n_outputs1_loss: 0.0287\n",
      "Epoch 9: val_loss did not improve from 0.18440\n",
      "27/27 [==============================] - 9s 338ms/step - loss: 0.2239 - n_outputs0_loss: 0.1952 - n_outputs1_loss: 0.0287 - val_loss: 0.2263 - val_n_outputs0_loss: 0.2187 - val_n_outputs1_loss: 0.0075\n",
      "Epoch 10/60\n",
      "27/27 [==============================] - ETA: 0s - loss: 0.1838 - n_outputs0_loss: 0.1554 - n_outputs1_loss: 0.0284\n",
      "Epoch 10: val_loss improved from 0.18440 to 0.15656, saving model to /home/adminutec/jupyter-venv/content/mycar/models/modelojuanma.h5\n",
      "27/27 [==============================] - 9s 339ms/step - loss: 0.1838 - n_outputs0_loss: 0.1554 - n_outputs1_loss: 0.0284 - val_loss: 0.1566 - val_n_outputs0_loss: 0.1490 - val_n_outputs1_loss: 0.0076\n",
      "Epoch 11/60\n",
      "27/27 [==============================] - ETA: 0s - loss: 0.1535 - n_outputs0_loss: 0.1251 - n_outputs1_loss: 0.0284\n",
      "Epoch 11: val_loss improved from 0.15656 to 0.15527, saving model to /home/adminutec/jupyter-venv/content/mycar/models/modelojuanma.h5\n",
      "27/27 [==============================] - 9s 340ms/step - loss: 0.1535 - n_outputs0_loss: 0.1251 - n_outputs1_loss: 0.0284 - val_loss: 0.1553 - val_n_outputs0_loss: 0.1463 - val_n_outputs1_loss: 0.0090\n",
      "Epoch 12/60\n",
      "27/27 [==============================] - ETA: 0s - loss: 0.1392 - n_outputs0_loss: 0.1125 - n_outputs1_loss: 0.0267\n",
      "Epoch 12: val_loss improved from 0.15527 to 0.11910, saving model to /home/adminutec/jupyter-venv/content/mycar/models/modelojuanma.h5\n",
      "27/27 [==============================] - 9s 339ms/step - loss: 0.1392 - n_outputs0_loss: 0.1125 - n_outputs1_loss: 0.0267 - val_loss: 0.1191 - val_n_outputs0_loss: 0.1120 - val_n_outputs1_loss: 0.0070\n",
      "Epoch 13/60\n",
      "27/27 [==============================] - ETA: 0s - loss: 0.1207 - n_outputs0_loss: 0.0953 - n_outputs1_loss: 0.0254\n",
      "Epoch 13: val_loss improved from 0.11910 to 0.08784, saving model to /home/adminutec/jupyter-venv/content/mycar/models/modelojuanma.h5\n",
      "27/27 [==============================] - 9s 340ms/step - loss: 0.1207 - n_outputs0_loss: 0.0953 - n_outputs1_loss: 0.0254 - val_loss: 0.0878 - val_n_outputs0_loss: 0.0821 - val_n_outputs1_loss: 0.0058\n",
      "Epoch 14/60\n",
      "27/27 [==============================] - ETA: 0s - loss: 0.1063 - n_outputs0_loss: 0.0827 - n_outputs1_loss: 0.0236\n",
      "Epoch 14: val_loss improved from 0.08784 to 0.07233, saving model to /home/adminutec/jupyter-venv/content/mycar/models/modelojuanma.h5\n",
      "27/27 [==============================] - 9s 341ms/step - loss: 0.1063 - n_outputs0_loss: 0.0827 - n_outputs1_loss: 0.0236 - val_loss: 0.0723 - val_n_outputs0_loss: 0.0657 - val_n_outputs1_loss: 0.0066\n",
      "Epoch 15/60\n",
      "27/27 [==============================] - ETA: 0s - loss: 0.1049 - n_outputs0_loss: 0.0803 - n_outputs1_loss: 0.0246\n",
      "Epoch 15: val_loss improved from 0.07233 to 0.06773, saving model to /home/adminutec/jupyter-venv/content/mycar/models/modelojuanma.h5\n",
      "27/27 [==============================] - 9s 338ms/step - loss: 0.1049 - n_outputs0_loss: 0.0803 - n_outputs1_loss: 0.0246 - val_loss: 0.0677 - val_n_outputs0_loss: 0.0598 - val_n_outputs1_loss: 0.0080\n",
      "Epoch 16/60\n",
      "27/27 [==============================] - ETA: 0s - loss: 0.0942 - n_outputs0_loss: 0.0709 - n_outputs1_loss: 0.0233\n",
      "Epoch 16: val_loss improved from 0.06773 to 0.06004, saving model to /home/adminutec/jupyter-venv/content/mycar/models/modelojuanma.h5\n",
      "27/27 [==============================] - 9s 339ms/step - loss: 0.0942 - n_outputs0_loss: 0.0709 - n_outputs1_loss: 0.0233 - val_loss: 0.0600 - val_n_outputs0_loss: 0.0542 - val_n_outputs1_loss: 0.0058\n",
      "Epoch 17/60\n",
      "27/27 [==============================] - ETA: 0s - loss: 0.0892 - n_outputs0_loss: 0.0661 - n_outputs1_loss: 0.0231\n",
      "Epoch 17: val_loss improved from 0.06004 to 0.05851, saving model to /home/adminutec/jupyter-venv/content/mycar/models/modelojuanma.h5\n",
      "27/27 [==============================] - 9s 338ms/step - loss: 0.0892 - n_outputs0_loss: 0.0661 - n_outputs1_loss: 0.0231 - val_loss: 0.0585 - val_n_outputs0_loss: 0.0537 - val_n_outputs1_loss: 0.0049\n",
      "Epoch 18/60\n",
      "27/27 [==============================] - ETA: 0s - loss: 0.0858 - n_outputs0_loss: 0.0647 - n_outputs1_loss: 0.0211\n",
      "Epoch 18: val_loss did not improve from 0.05851\n",
      "27/27 [==============================] - 9s 336ms/step - loss: 0.0858 - n_outputs0_loss: 0.0647 - n_outputs1_loss: 0.0211 - val_loss: 0.0590 - val_n_outputs0_loss: 0.0541 - val_n_outputs1_loss: 0.0049\n",
      "Epoch 19/60\n",
      "27/27 [==============================] - ETA: 0s - loss: 0.0840 - n_outputs0_loss: 0.0627 - n_outputs1_loss: 0.0213\n",
      "Epoch 19: val_loss improved from 0.05851 to 0.05233, saving model to /home/adminutec/jupyter-venv/content/mycar/models/modelojuanma.h5\n",
      "27/27 [==============================] - 9s 339ms/step - loss: 0.0840 - n_outputs0_loss: 0.0627 - n_outputs1_loss: 0.0213 - val_loss: 0.0523 - val_n_outputs0_loss: 0.0477 - val_n_outputs1_loss: 0.0047\n",
      "Epoch 20/60\n",
      "27/27 [==============================] - ETA: 0s - loss: 0.0812 - n_outputs0_loss: 0.0616 - n_outputs1_loss: 0.0196\n",
      "Epoch 20: val_loss improved from 0.05233 to 0.04932, saving model to /home/adminutec/jupyter-venv/content/mycar/models/modelojuanma.h5\n",
      "27/27 [==============================] - 9s 338ms/step - loss: 0.0812 - n_outputs0_loss: 0.0616 - n_outputs1_loss: 0.0196 - val_loss: 0.0493 - val_n_outputs0_loss: 0.0453 - val_n_outputs1_loss: 0.0040\n",
      "Epoch 21/60\n",
      "27/27 [==============================] - ETA: 0s - loss: 0.0796 - n_outputs0_loss: 0.0600 - n_outputs1_loss: 0.0197\n",
      "Epoch 21: val_loss improved from 0.04932 to 0.04801, saving model to /home/adminutec/jupyter-venv/content/mycar/models/modelojuanma.h5\n",
      "27/27 [==============================] - 9s 340ms/step - loss: 0.0796 - n_outputs0_loss: 0.0600 - n_outputs1_loss: 0.0197 - val_loss: 0.0480 - val_n_outputs0_loss: 0.0442 - val_n_outputs1_loss: 0.0038\n",
      "Epoch 22/60\n",
      "27/27 [==============================] - ETA: 0s - loss: 0.0783 - n_outputs0_loss: 0.0593 - n_outputs1_loss: 0.0191\n",
      "Epoch 22: val_loss did not improve from 0.04801\n",
      "27/27 [==============================] - 9s 337ms/step - loss: 0.0783 - n_outputs0_loss: 0.0593 - n_outputs1_loss: 0.0191 - val_loss: 0.0503 - val_n_outputs0_loss: 0.0464 - val_n_outputs1_loss: 0.0039\n",
      "Epoch 23/60\n",
      "27/27 [==============================] - ETA: 0s - loss: 0.0717 - n_outputs0_loss: 0.0543 - n_outputs1_loss: 0.0174\n",
      "Epoch 23: val_loss improved from 0.04801 to 0.04787, saving model to /home/adminutec/jupyter-venv/content/mycar/models/modelojuanma.h5\n",
      "27/27 [==============================] - 9s 338ms/step - loss: 0.0717 - n_outputs0_loss: 0.0543 - n_outputs1_loss: 0.0174 - val_loss: 0.0479 - val_n_outputs0_loss: 0.0425 - val_n_outputs1_loss: 0.0053\n",
      "Epoch 24/60\n",
      "27/27 [==============================] - ETA: 0s - loss: 0.0731 - n_outputs0_loss: 0.0562 - n_outputs1_loss: 0.0169\n",
      "Epoch 24: val_loss improved from 0.04787 to 0.04624, saving model to /home/adminutec/jupyter-venv/content/mycar/models/modelojuanma.h5\n",
      "27/27 [==============================] - 9s 338ms/step - loss: 0.0731 - n_outputs0_loss: 0.0562 - n_outputs1_loss: 0.0169 - val_loss: 0.0462 - val_n_outputs0_loss: 0.0418 - val_n_outputs1_loss: 0.0044\n",
      "Epoch 25/60\n",
      "27/27 [==============================] - ETA: 0s - loss: 0.0693 - n_outputs0_loss: 0.0522 - n_outputs1_loss: 0.0171\n",
      "Epoch 25: val_loss improved from 0.04624 to 0.04390, saving model to /home/adminutec/jupyter-venv/content/mycar/models/modelojuanma.h5\n",
      "27/27 [==============================] - 9s 339ms/step - loss: 0.0693 - n_outputs0_loss: 0.0522 - n_outputs1_loss: 0.0171 - val_loss: 0.0439 - val_n_outputs0_loss: 0.0399 - val_n_outputs1_loss: 0.0040\n",
      "Epoch 26/60\n",
      "27/27 [==============================] - ETA: 0s - loss: 0.0669 - n_outputs0_loss: 0.0504 - n_outputs1_loss: 0.0165\n",
      "Epoch 26: val_loss improved from 0.04390 to 0.04239, saving model to /home/adminutec/jupyter-venv/content/mycar/models/modelojuanma.h5\n",
      "27/27 [==============================] - 9s 339ms/step - loss: 0.0669 - n_outputs0_loss: 0.0504 - n_outputs1_loss: 0.0165 - val_loss: 0.0424 - val_n_outputs0_loss: 0.0392 - val_n_outputs1_loss: 0.0032\n",
      "Epoch 27/60\n",
      "27/27 [==============================] - ETA: 0s - loss: 0.0669 - n_outputs0_loss: 0.0505 - n_outputs1_loss: 0.0164\n",
      "Epoch 27: val_loss did not improve from 0.04239\n",
      "27/27 [==============================] - 9s 340ms/step - loss: 0.0669 - n_outputs0_loss: 0.0505 - n_outputs1_loss: 0.0164 - val_loss: 0.0429 - val_n_outputs0_loss: 0.0396 - val_n_outputs1_loss: 0.0033\n",
      "Epoch 28/60\n",
      "27/27 [==============================] - ETA: 0s - loss: 0.0640 - n_outputs0_loss: 0.0484 - n_outputs1_loss: 0.0156\n",
      "Epoch 28: val_loss improved from 0.04239 to 0.04171, saving model to /home/adminutec/jupyter-venv/content/mycar/models/modelojuanma.h5\n",
      "27/27 [==============================] - 9s 339ms/step - loss: 0.0640 - n_outputs0_loss: 0.0484 - n_outputs1_loss: 0.0156 - val_loss: 0.0417 - val_n_outputs0_loss: 0.0378 - val_n_outputs1_loss: 0.0039\n",
      "Epoch 29/60\n",
      "27/27 [==============================] - ETA: 0s - loss: 0.0653 - n_outputs0_loss: 0.0496 - n_outputs1_loss: 0.0156\n",
      "Epoch 29: val_loss did not improve from 0.04171\n",
      "27/27 [==============================] - 9s 336ms/step - loss: 0.0653 - n_outputs0_loss: 0.0496 - n_outputs1_loss: 0.0156 - val_loss: 0.0425 - val_n_outputs0_loss: 0.0388 - val_n_outputs1_loss: 0.0037\n",
      "Epoch 30/60\n",
      "27/27 [==============================] - ETA: 0s - loss: 0.0639 - n_outputs0_loss: 0.0491 - n_outputs1_loss: 0.0149\n",
      "Epoch 30: val_loss did not improve from 0.04171\n",
      "27/27 [==============================] - 9s 336ms/step - loss: 0.0639 - n_outputs0_loss: 0.0491 - n_outputs1_loss: 0.0149 - val_loss: 0.0431 - val_n_outputs0_loss: 0.0386 - val_n_outputs1_loss: 0.0045\n",
      "Epoch 31/60\n",
      "27/27 [==============================] - ETA: 0s - loss: 0.0607 - n_outputs0_loss: 0.0457 - n_outputs1_loss: 0.0150\n",
      "Epoch 31: val_loss improved from 0.04171 to 0.04148, saving model to /home/adminutec/jupyter-venv/content/mycar/models/modelojuanma.h5\n",
      "27/27 [==============================] - 9s 337ms/step - loss: 0.0607 - n_outputs0_loss: 0.0457 - n_outputs1_loss: 0.0150 - val_loss: 0.0415 - val_n_outputs0_loss: 0.0372 - val_n_outputs1_loss: 0.0043\n",
      "Epoch 32/60\n",
      "27/27 [==============================] - ETA: 0s - loss: 0.0629 - n_outputs0_loss: 0.0478 - n_outputs1_loss: 0.0151\n",
      "Epoch 32: val_loss improved from 0.04148 to 0.04117, saving model to /home/adminutec/jupyter-venv/content/mycar/models/modelojuanma.h5\n",
      "27/27 [==============================] - 9s 340ms/step - loss: 0.0629 - n_outputs0_loss: 0.0478 - n_outputs1_loss: 0.0151 - val_loss: 0.0412 - val_n_outputs0_loss: 0.0372 - val_n_outputs1_loss: 0.0040\n",
      "Epoch 33/60\n",
      "27/27 [==============================] - ETA: 0s - loss: 0.0603 - n_outputs0_loss: 0.0461 - n_outputs1_loss: 0.0142\n",
      "Epoch 33: val_loss did not improve from 0.04117\n",
      "27/27 [==============================] - 9s 335ms/step - loss: 0.0603 - n_outputs0_loss: 0.0461 - n_outputs1_loss: 0.0142 - val_loss: 0.0460 - val_n_outputs0_loss: 0.0411 - val_n_outputs1_loss: 0.0049\n",
      "Epoch 34/60\n",
      "27/27 [==============================] - ETA: 0s - loss: 0.0599 - n_outputs0_loss: 0.0465 - n_outputs1_loss: 0.0134\n",
      "Epoch 34: val_loss improved from 0.04117 to 0.04092, saving model to /home/adminutec/jupyter-venv/content/mycar/models/modelojuanma.h5\n",
      "27/27 [==============================] - 9s 338ms/step - loss: 0.0599 - n_outputs0_loss: 0.0465 - n_outputs1_loss: 0.0134 - val_loss: 0.0409 - val_n_outputs0_loss: 0.0377 - val_n_outputs1_loss: 0.0033\n",
      "Epoch 35/60\n",
      "27/27 [==============================] - ETA: 0s - loss: 0.0564 - n_outputs0_loss: 0.0433 - n_outputs1_loss: 0.0131\n",
      "Epoch 35: val_loss did not improve from 0.04092\n",
      "27/27 [==============================] - 9s 336ms/step - loss: 0.0564 - n_outputs0_loss: 0.0433 - n_outputs1_loss: 0.0131 - val_loss: 0.0418 - val_n_outputs0_loss: 0.0373 - val_n_outputs1_loss: 0.0045\n",
      "Epoch 36/60\n",
      "27/27 [==============================] - ETA: 0s - loss: 0.0565 - n_outputs0_loss: 0.0436 - n_outputs1_loss: 0.0129\n",
      "Epoch 36: val_loss improved from 0.04092 to 0.03840, saving model to /home/adminutec/jupyter-venv/content/mycar/models/modelojuanma.h5\n",
      "27/27 [==============================] - 9s 338ms/step - loss: 0.0565 - n_outputs0_loss: 0.0436 - n_outputs1_loss: 0.0129 - val_loss: 0.0384 - val_n_outputs0_loss: 0.0347 - val_n_outputs1_loss: 0.0037\n",
      "Epoch 37/60\n",
      "27/27 [==============================] - ETA: 0s - loss: 0.0547 - n_outputs0_loss: 0.0411 - n_outputs1_loss: 0.0136\n",
      "Epoch 37: val_loss did not improve from 0.03840\n",
      "27/27 [==============================] - 9s 335ms/step - loss: 0.0547 - n_outputs0_loss: 0.0411 - n_outputs1_loss: 0.0136 - val_loss: 0.0387 - val_n_outputs0_loss: 0.0353 - val_n_outputs1_loss: 0.0034\n",
      "Epoch 38/60\n",
      "27/27 [==============================] - ETA: 0s - loss: 0.0536 - n_outputs0_loss: 0.0410 - n_outputs1_loss: 0.0126\n",
      "Epoch 38: val_loss did not improve from 0.03840\n",
      "27/27 [==============================] - 9s 337ms/step - loss: 0.0536 - n_outputs0_loss: 0.0410 - n_outputs1_loss: 0.0126 - val_loss: 0.0388 - val_n_outputs0_loss: 0.0354 - val_n_outputs1_loss: 0.0034\n",
      "Epoch 39/60\n",
      "27/27 [==============================] - ETA: 0s - loss: 0.0523 - n_outputs0_loss: 0.0398 - n_outputs1_loss: 0.0125\n",
      "Epoch 39: val_loss improved from 0.03840 to 0.03648, saving model to /home/adminutec/jupyter-venv/content/mycar/models/modelojuanma.h5\n",
      "27/27 [==============================] - 9s 339ms/step - loss: 0.0523 - n_outputs0_loss: 0.0398 - n_outputs1_loss: 0.0125 - val_loss: 0.0365 - val_n_outputs0_loss: 0.0328 - val_n_outputs1_loss: 0.0037\n",
      "Epoch 40/60\n",
      "27/27 [==============================] - ETA: 0s - loss: 0.0513 - n_outputs0_loss: 0.0389 - n_outputs1_loss: 0.0124\n",
      "Epoch 40: val_loss improved from 0.03648 to 0.03546, saving model to /home/adminutec/jupyter-venv/content/mycar/models/modelojuanma.h5\n",
      "27/27 [==============================] - 9s 339ms/step - loss: 0.0513 - n_outputs0_loss: 0.0389 - n_outputs1_loss: 0.0124 - val_loss: 0.0355 - val_n_outputs0_loss: 0.0321 - val_n_outputs1_loss: 0.0034\n",
      "Epoch 41/60\n",
      "27/27 [==============================] - ETA: 0s - loss: 0.0501 - n_outputs0_loss: 0.0386 - n_outputs1_loss: 0.0115\n",
      "Epoch 41: val_loss did not improve from 0.03546\n",
      "27/27 [==============================] - 9s 337ms/step - loss: 0.0501 - n_outputs0_loss: 0.0386 - n_outputs1_loss: 0.0115 - val_loss: 0.0363 - val_n_outputs0_loss: 0.0333 - val_n_outputs1_loss: 0.0030\n",
      "Epoch 42/60\n",
      "27/27 [==============================] - ETA: 0s - loss: 0.0491 - n_outputs0_loss: 0.0379 - n_outputs1_loss: 0.0112\n",
      "Epoch 42: val_loss did not improve from 0.03546\n",
      "27/27 [==============================] - 9s 335ms/step - loss: 0.0491 - n_outputs0_loss: 0.0379 - n_outputs1_loss: 0.0112 - val_loss: 0.0374 - val_n_outputs0_loss: 0.0337 - val_n_outputs1_loss: 0.0037\n",
      "Epoch 43/60\n",
      "27/27 [==============================] - ETA: 0s - loss: 0.0491 - n_outputs0_loss: 0.0377 - n_outputs1_loss: 0.0114\n",
      "Epoch 43: val_loss improved from 0.03546 to 0.03539, saving model to /home/adminutec/jupyter-venv/content/mycar/models/modelojuanma.h5\n",
      "27/27 [==============================] - 9s 338ms/step - loss: 0.0491 - n_outputs0_loss: 0.0377 - n_outputs1_loss: 0.0114 - val_loss: 0.0354 - val_n_outputs0_loss: 0.0321 - val_n_outputs1_loss: 0.0033\n",
      "Epoch 44/60\n",
      "27/27 [==============================] - ETA: 0s - loss: 0.0487 - n_outputs0_loss: 0.0375 - n_outputs1_loss: 0.0112\n",
      "Epoch 44: val_loss did not improve from 0.03539\n",
      "27/27 [==============================] - 9s 336ms/step - loss: 0.0487 - n_outputs0_loss: 0.0375 - n_outputs1_loss: 0.0112 - val_loss: 0.0364 - val_n_outputs0_loss: 0.0330 - val_n_outputs1_loss: 0.0034\n",
      "Epoch 45/60\n",
      "27/27 [==============================] - ETA: 0s - loss: 0.0488 - n_outputs0_loss: 0.0378 - n_outputs1_loss: 0.0110\n",
      "Epoch 45: val_loss did not improve from 0.03539\n",
      "27/27 [==============================] - 9s 336ms/step - loss: 0.0488 - n_outputs0_loss: 0.0378 - n_outputs1_loss: 0.0110 - val_loss: 0.0398 - val_n_outputs0_loss: 0.0363 - val_n_outputs1_loss: 0.0034\n"
     ]
    },
    {
     "name": "stderr",
     "output_type": "stream",
     "text": [
      "INFO:donkeycar.parts.keras:////////// Finished training in: 0:06:59.754553 //////////\n",
      "INFO:donkeycar.parts.interpreter:Convert model /home/adminutec/jupyter-venv/content/mycar/models/modelojuanma.h5 to TFLite /home/adminutec/jupyter-venv/content/mycar/models/modelojuanma.tflite\n",
      "INFO:tensorflow:Assets written to: /tmp/tmp6ym93yzh/assets\n",
      "2024-05-24 15:10:32.925393: W tensorflow/compiler/mlir/lite/python/tf_tfl_flatbuffer_helpers.cc:364] Ignored output_format.\n",
      "2024-05-24 15:10:32.925409: W tensorflow/compiler/mlir/lite/python/tf_tfl_flatbuffer_helpers.cc:367] Ignored drop_control_dependency.\n",
      "2024-05-24 15:10:32.925622: I tensorflow/cc/saved_model/reader.cc:45] Reading SavedModel from: /tmp/tmp6ym93yzh\n",
      "2024-05-24 15:10:32.927301: I tensorflow/cc/saved_model/reader.cc:91] Reading meta graph with tags { serve }\n",
      "2024-05-24 15:10:32.927312: I tensorflow/cc/saved_model/reader.cc:132] Reading SavedModel debug info (if present) from: /tmp/tmp6ym93yzh\n",
      "2024-05-24 15:10:32.931385: I tensorflow/compiler/mlir/mlir_graph_optimization_pass.cc:375] MLIR V1 optimization pass is not enabled\n",
      "2024-05-24 15:10:32.932295: I tensorflow/cc/saved_model/loader.cc:231] Restoring SavedModel bundle.\n",
      "2024-05-24 15:10:32.958453: I tensorflow/cc/saved_model/loader.cc:215] Running initialization op on SavedModel bundle at path: /tmp/tmp6ym93yzh\n",
      "2024-05-24 15:10:32.968802: I tensorflow/cc/saved_model/loader.cc:314] SavedModel load for tags { serve }; Status: success: OK. Took 43181 microseconds.\n",
      "2024-05-24 15:10:32.981568: I tensorflow/compiler/mlir/tensorflow/utils/dump_mlir_util.cc:255] disabling MLIR crash reproducer, set env var `MLIR_CRASH_REPRODUCER_DIRECTORY` to enable.\n",
      "INFO:donkeycar.parts.interpreter:TFLite conversion done.\n",
      "INFO:donkeycar.pipeline.database:Writing database file: /home/adminutec/jupyter-venv/content/mycar/models/database.json\n"
     ]
    },
    {
     "data": {
      "text/plain": [
       "CompletedProcess(args=['donkey', 'train', '--tub', 'data/data-0', '--model', 'models/modelojuanma.h5'], returncode=0)"
      ]
     },
     "execution_count": 27,
     "metadata": {},
     "output_type": "execute_result"
    }
   ],
   "source": [
    "model_name = \"mypilot\"\n",
    "import subprocess\n",
    "import os\n",
    "subprocess.run([\"donkey\", \"train\", \"--tub\", \"data/data-0\", \"--model\", \"models/modelojuanma.h5\"])"
   ]
  },
  {
   "cell_type": "code",
   "execution_count": null,
   "metadata": {},
   "outputs": [],
   "source": []
  },
  {
   "cell_type": "code",
   "execution_count": null,
   "metadata": {},
   "outputs": [],
   "source": []
  }
 ],
 "metadata": {
  "accelerator": "GPU",
  "colab": {
   "gpuType": "T4",
   "provenance": []
  },
  "kernelspec": {
   "display_name": "Python 3 (ipykernel)",
   "language": "python",
   "name": "python3"
  },
  "language_info": {
   "codemirror_mode": {
    "name": "ipython",
    "version": 3
   },
   "file_extension": ".py",
   "mimetype": "text/x-python",
   "name": "python",
   "nbconvert_exporter": "python",
   "pygments_lexer": "ipython3",
   "version": "3.11.0"
  }
 },
 "nbformat": 4,
 "nbformat_minor": 4
}
